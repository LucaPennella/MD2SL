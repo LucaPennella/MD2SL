{
 "cells": [
  {
   "cell_type": "markdown",
   "metadata": {
    "id": "K4W1HKL-lm_e"
   },
   "source": [
    "# Algorithms and programming in Python and R for Data Science\n",
    "Python section - Luca Pennella"
   ]
  },
  {
   "cell_type": "code",
   "execution_count": 1,
   "metadata": {},
   "outputs": [],
   "source": [
    "import timeit\n",
    "from tabulate import tabulate\n",
    "import csv\n",
    "from csv import writer"
   ]
  },
  {
   "cell_type": "code",
   "execution_count": 2,
   "metadata": {},
   "outputs": [],
   "source": [
    "start_program = timeit.default_timer()"
   ]
  },
  {
   "cell_type": "code",
   "execution_count": 3,
   "metadata": {},
   "outputs": [],
   "source": [
    "movies = open(\"C:/Users/lpennella/Desktop/Master/Python/Python/top1000movies.tsv\", \"r\")\n",
    "movies_list = movies.readlines() # method returns a list containing each line in the file as a list item.\n",
    "#print(movies_list[0].split(\"\\t\"))\n",
    "movies.close()"
   ]
  },
  {
   "cell_type": "code",
   "execution_count": 4,
   "metadata": {},
   "outputs": [],
   "source": [
    "for i in range(len(movies_list)):\n",
    "        aline = movies_list[i]\n",
    "        aline = aline.lstrip(str(i+1)) # remove the number in the list\n",
    "        aline = aline.replace(\"\\t\", \"\")\n",
    "        aline = aline.replace(\"\\n\", \"\")\n",
    "        movies_list[i] = aline\n",
    "        #print(aline)"
   ]
  },
  {
   "cell_type": "code",
   "execution_count": 5,
   "metadata": {},
   "outputs": [],
   "source": [
    "actors = open(\"C:/Users/lpennella/Desktop/Master/Python/Python/actors.tsv\",\"r\")\n",
    "actors_list = actors.readlines()\n",
    "actors.close()"
   ]
  },
  {
   "cell_type": "code",
   "execution_count": 6,
   "metadata": {
    "id": "VcH50-NknjXu"
   },
   "outputs": [],
   "source": [
    "for i in range(len(actors_list)):\n",
    "    aline = actors_list[i]\n",
    "    aline = aline.replace(\"\\n\", \"\")\n",
    "    aline = aline.split(\"\\t\")\n",
    "    actors_list[i] = aline"
   ]
  },
  {
   "cell_type": "code",
   "execution_count": 39,
   "metadata": {},
   "outputs": [
    {
     "name": "stdout",
     "output_type": "stream",
     "text": [
      "['O Brother, Where Art Thou? (2000)', 'Durning, Charles', '2000']\n",
      "The Shawshank Redemption (1994)\n"
     ]
    }
   ],
   "source": [
    "print(actors_list[0])\n",
    "print(movies_list[0])"
   ]
  },
  {
   "cell_type": "code",
   "execution_count": 8,
   "metadata": {},
   "outputs": [],
   "source": [
    "movie_plist = movies_list[0:100]\n",
    "movies = dict.fromkeys(movie_plist,0)\n",
    "#movies[\"The Shawshank Redemption (1994)\"] = movies[\"The Shawshank Redemption (1994)\"] + 1\n",
    "#print(movies.items())"
   ]
  },
  {
   "cell_type": "code",
   "execution_count": 9,
   "metadata": {},
   "outputs": [],
   "source": [
    "#Question One: Qual'è il film che ha più attori?\n",
    "def Q1(x, movies_list):\n",
    "    \n",
    "    starttime = timeit.default_timer()\n",
    "    movie_plist = movies_list[0:x]\n",
    "    movies = dict.fromkeys(movie_plist,0)\n",
    "    keys = movies.keys()\n",
    "    \n",
    "    for i in range(len(actors_list)):\n",
    "        if actors_list[i][0] in movies.keys():\n",
    "                   movies[actors_list[i][0]] = movies[actors_list[i][0]] + 1\n",
    "                \n",
    "    count = max(movies.values())\n",
    "    title = max(movies, key=movies.get)\n",
    "    time = timeit.default_timer() - starttime\n",
    "    header = [[\"x\", \"Film\", \"N. of Actors\", \"Ex. time (sec)\"]]\n",
    "    data = [[x, title, count, time]]\n",
    "    print (tabulate(data, headers = [\"x\", \"Film\", \"N. of Actors\", \"Ex. time (sec)\"]))\n",
    "    with open('Table1.csv', 'a', newline='') as f_object:  \n",
    "    # Pass the CSV  file object to the writer() function\n",
    "        writer_object = writer(f_object)\n",
    "    # Result - a writer object\n",
    "    # Pass the data in the list as an argument into the writerow() function\n",
    "        if x == 100:\n",
    "            writer_object.writerow(header)\n",
    "            writer_object.writerow(data)\n",
    "        else:\n",
    "            writer_object.writerow(data)  \n",
    "    # Close the file object\n",
    "        f_object.close()"
   ]
  },
  {
   "cell_type": "code",
   "execution_count": 10,
   "metadata": {},
   "outputs": [
    {
     "name": "stdout",
     "output_type": "stream",
     "text": [
      "Table 1\n",
      "  x  Film                            N. of Actors    Ex. time (sec)\n",
      "---  ----------------------------  --------------  ----------------\n",
      "100  The Dark Knight Rises (2012)             326         0.0180372\n",
      "  x  Film                            N. of Actors    Ex. time (sec)\n",
      "---  ----------------------------  --------------  ----------------\n",
      "200  The Dark Knight Rises (2012)             326          0.017334\n",
      "  x  Film                            N. of Actors    Ex. time (sec)\n",
      "---  ----------------------------  --------------  ----------------\n",
      "400  The Dark Knight Rises (2012)             326         0.0171486\n",
      "  x  Film                           N. of Actors    Ex. time (sec)\n",
      "---  ---------------------------  --------------  ----------------\n",
      "600  The Ten Commandments (1956)             366         0.0189371\n",
      "  x  Film                           N. of Actors    Ex. time (sec)\n",
      "---  ---------------------------  --------------  ----------------\n",
      "800  The Ten Commandments (1956)             366         0.0209671\n",
      "   x  Film                           N. of Actors    Ex. time (sec)\n",
      "----  ---------------------------  --------------  ----------------\n",
      "1000  The Ten Commandments (1956)             366         0.0237396\n"
     ]
    }
   ],
   "source": [
    "#Answer One\n",
    "for i in [100,200,400,600,800,1000]:\n",
    "    if i == 100 :\n",
    "        print(\"Table 1\")\n",
    "    Q1(i, movies_list)"
   ]
  },
  {
   "cell_type": "code",
   "execution_count": 11,
   "metadata": {},
   "outputs": [],
   "source": [
    "#Question Two: Qual'è l'anno in cui ci sono più film?\n",
    "year_list=movies_list[:]\n",
    "for i in range(len(movies_list)):\n",
    "        aline = movies_list[i]\n",
    "        year_list[i] = movies_list[i]\n",
    "        aline = aline.lstrip(str(i+1)) # remove the number in the list\n",
    "        aline = aline.replace(\"\\t\", \"\")\n",
    "        aline = aline.replace(\"\\n\", \"\")\n",
    "        aline = aline.replace(\"/I\", \"\")\n",
    "        aline = aline.replace(\"(V\", \"\")\n",
    "        aline = aline.replace(\") \", \"\")\n",
    "        year_list[i] = aline[-5:-1]\n",
    "        #print(aline[-5:-1])"
   ]
  },
  {
   "cell_type": "code",
   "execution_count": 12,
   "metadata": {},
   "outputs": [
    {
     "name": "stdout",
     "output_type": "stream",
     "text": [
      "1995\n"
     ]
    }
   ],
   "source": [
    "print(year_list[225])"
   ]
  },
  {
   "cell_type": "code",
   "execution_count": 13,
   "metadata": {},
   "outputs": [
    {
     "name": "stdout",
     "output_type": "stream",
     "text": [
      "<class 'str'>\n"
     ]
    }
   ],
   "source": [
    "unique_year=[]\n",
    "for i in range(1900,2023):\n",
    "    i = str(i)\n",
    "    unique_year.append(i)\n",
    "print(type(unique_year[1]))"
   ]
  },
  {
   "cell_type": "code",
   "execution_count": 14,
   "metadata": {},
   "outputs": [],
   "source": [
    "#years = dict.fromkeys(unique_year,0)\n",
    "#years[1900] = years[1900] + 1\n",
    "#print(years.items())"
   ]
  },
  {
   "cell_type": "code",
   "execution_count": 15,
   "metadata": {},
   "outputs": [],
   "source": [
    "#Question Two: Qual'è l'anno in cui ci sono più film?\n",
    "def Q2(x, year_list):\n",
    "    \n",
    "    starttime = timeit.default_timer()\n",
    "    year_plist = year_list[0:x]\n",
    "    years = dict.fromkeys(unique_year,0)\n",
    "    keys = years.keys()\n",
    "    \n",
    "    for i in range(len(year_plist)):\n",
    "        if year_plist[i] in years.keys():\n",
    "                   years[year_plist[i]] = years[year_plist[i]] + 1\n",
    "                \n",
    "    count = max(years.values())\n",
    "    title = max(years, key=years.get)\n",
    "    yrs = [k for k,v in years.items() if v == count]\n",
    "    time = timeit.default_timer() - starttime\n",
    "    data = [[x, yrs, count, time]]\n",
    "    header = [[\"x\", \"Year\", \"N. of Films\", \"Ex. time (sec)\"]]\n",
    "    print (tabulate(data, headers = [\"x\", \"Year\", \"N. of Films\", \"Ex. time (sec)\"]))  \n",
    "    with open('Table2.csv', 'a', newline='') as f_object:  \n",
    "    # Pass the CSV  file object to the writer() function\n",
    "        writer_object = writer(f_object)\n",
    "    # Result - a writer object\n",
    "    # Pass the data in the list as an argument into the writerow() function\n",
    "        if x == 100:\n",
    "            writer_object.writerow(header)\n",
    "            writer_object.writerow(data)\n",
    "        else:\n",
    "            writer_object.writerow(data)  \n",
    "    # Close the file object\n",
    "        f_object.close()"
   ]
  },
  {
   "cell_type": "code",
   "execution_count": 16,
   "metadata": {},
   "outputs": [
    {
     "name": "stdout",
     "output_type": "stream",
     "text": [
      "Table 2\n",
      "  x  Year                N. of Films    Ex. time (sec)\n",
      "---  ----------------  -------------  ----------------\n",
      "100  ['1994', '1999']              4         0.0001308\n",
      "  x  Year        N. of Films    Ex. time (sec)\n",
      "---  --------  -------------  ----------------\n",
      "200  ['1995']              6         0.0001333\n",
      "  x  Year        N. of Films    Ex. time (sec)\n",
      "---  --------  -------------  ----------------\n",
      "400  ['2004']             14         0.0001237\n",
      "  x  Year        N. of Films    Ex. time (sec)\n",
      "---  --------  -------------  ----------------\n",
      "600  ['2004']             29         0.0002342\n",
      "  x  Year        N. of Films    Ex. time (sec)\n",
      "---  --------  -------------  ----------------\n",
      "800  ['2004']             35         0.0001986\n",
      "   x  Year        N. of Films    Ex. time (sec)\n",
      "----  --------  -------------  ----------------\n",
      "1000  ['2007']             48         0.0002793\n"
     ]
    }
   ],
   "source": [
    "#Answer Two\n",
    "#da migliorare, non stampa 1999 in x = 100\n",
    "for i in [100,200,400,600,800,1000]:\n",
    "    if i == 100 :\n",
    "        print(\"Table 2\")\n",
    "    Q2(i, year_list)"
   ]
  },
  {
   "cell_type": "code",
   "execution_count": 17,
   "metadata": {},
   "outputs": [],
   "source": [
    "#Question Three: Qual'è l'attore che ha fatto più film?"
   ]
  },
  {
   "cell_type": "code",
   "execution_count": 18,
   "metadata": {},
   "outputs": [
    {
     "name": "stdout",
     "output_type": "stream",
     "text": [
      "['O Brother, Where Art Thou? (2000)', 'Durning, Charles', '2000']\n",
      "The Shawshank Redemption (1994)\n"
     ]
    }
   ],
   "source": [
    "print(actors_list[0])\n",
    "print(movies_list[0])"
   ]
  },
  {
   "cell_type": "code",
   "execution_count": 19,
   "metadata": {},
   "outputs": [],
   "source": [
    "actors = []\n",
    "for i in range(len(actors_list)):\n",
    "    lists = actors_list[i]\n",
    "    for i in range(len(lists)):\n",
    "        actor = lists[1]\n",
    "    actors.append(actor)\n",
    "unique_actor=set(actors)\n"
   ]
  },
  {
   "cell_type": "code",
   "execution_count": 20,
   "metadata": {},
   "outputs": [],
   "source": [
    "def Q3(x, movies_list):\n",
    "    \n",
    "    starttime = timeit.default_timer()\n",
    "    movie_plist = movies_list[0:x]\n",
    "    movies = dict.fromkeys(movie_plist,0)\n",
    "    keys_movies = movies.keys()\n",
    "    dict_actor = dict.fromkeys(unique_actor,0)\n",
    "    \n",
    "    for i in range(len(actors_list)):\n",
    "        if actors_list[i][0] in movies.keys():\n",
    "                   dict_actor[actors_list[i][1]] = dict_actor[actors_list[i][1]] + 1\n",
    "                \n",
    "    count = max(dict_actor.values())\n",
    "    title = max(dict_actor, key=dict_actor.get)\n",
    "    time = timeit.default_timer() - starttime\n",
    "    header = [[\"x\", \"Actor\", \"N. of Films\", \"Ex. time (sec)\"]]\n",
    "    data = [[x, title, count, time]]\n",
    "    print (tabulate(data, headers = [\"x\", \"Film\", \"N. of Actors\", \"Ex. time (sec)\"]))   \n",
    "    with open('Table3.csv', 'a', newline='') as f_object:  \n",
    "    # Pass the CSV  file object to the writer() function\n",
    "        writer_object = writer(f_object)\n",
    "    # Result - a writer object\n",
    "    # Pass the data in the list as an argument into the writerow() function\n",
    "        if x == 100:\n",
    "            writer_object.writerow(header)\n",
    "            writer_object.writerow(data)\n",
    "        else:\n",
    "            writer_object.writerow(data)  \n",
    "    # Close the file object\n",
    "        f_object.close()"
   ]
  },
  {
   "cell_type": "code",
   "execution_count": 21,
   "metadata": {},
   "outputs": [
    {
     "name": "stdout",
     "output_type": "stream",
     "text": [
      "Table 3\n",
      "  x  Film             N. of Actors    Ex. time (sec)\n",
      "---  -------------  --------------  ----------------\n",
      "100  Flowers, Bess               7         0.0327088\n",
      "  x  Film             N. of Actors    Ex. time (sec)\n",
      "---  -------------  --------------  ----------------\n",
      "200  Flowers, Bess              11         0.0378814\n",
      "  x  Film                     N. of Actors    Ex. time (sec)\n",
      "---  ---------------------  --------------  ----------------\n",
      "400  Hitchcock, Alfred (I)              13         0.0402955\n",
      "  x  Film               N. of Actors    Ex. time (sec)\n",
      "---  ---------------  --------------  ----------------\n",
      "600  De Niro, Robert              15         0.0462051\n",
      "  x  Film               N. of Actors    Ex. time (sec)\n",
      "---  ---------------  --------------  ----------------\n",
      "800  De Niro, Robert              19         0.0458728\n",
      "   x  Film               N. of Actors    Ex. time (sec)\n",
      "----  ---------------  --------------  ----------------\n",
      "1000  De Niro, Robert              24         0.0456236\n"
     ]
    }
   ],
   "source": [
    "#Answer Three\n",
    "for i in [100,200,400,600,800,1000]:\n",
    "    if i == 100 :\n",
    "        print(\"Table 3\")\n",
    "    Q3(i, movies_list)\n"
   ]
  },
  {
   "cell_type": "code",
   "execution_count": 22,
   "metadata": {},
   "outputs": [],
   "source": [
    "#Question Four: Mediana del numero di film fatti in un anno, i.e. minimo numero x tale che nel 50% degli anni si sono svolti meno di x film.\n",
    "def Q4(x, year_list):\n",
    "    \n",
    "    starttime = timeit.default_timer()\n",
    "    year_plist = year_list[0:x]\n",
    "    years = dict.fromkeys(year_plist,0)\n",
    "    keys = str(years.keys())\n",
    "    \n",
    "    for i in year_plist:\n",
    "         if i in years.keys():\n",
    "            years[i] = years[i] + 1\n",
    "            \n",
    "    years[''] = 0\n",
    "    number_year = list(years.values())\n",
    "    number_year.sort()\n",
    "    len_of_list = len(number_year)\n",
    "    \n",
    "    if len_of_list % 2 == 0:\n",
    "        median1 = number_year[len_of_list//2]\n",
    "        median2 = number_year[len_of_list//2 - 1]\n",
    "        median = (median1 + median2)/2\n",
    "    else:\n",
    "        median = number_year[len_of_list//2]\n",
    "        \n",
    "    time = timeit.default_timer() - starttime\n",
    "    header = [[\"x\", \"Median of movies in a year\",  \"Ex. time (sec)\"]]\n",
    "    data = [[x, median, time]]\n",
    "    print (tabulate(data, headers = [\"x\", \"Median of movies in a year\",  \"Ex. time (sec)\"]))  \n",
    "    with open('Table4.csv', 'a', newline='') as f_object:  \n",
    "    # Pass the CSV  file object to the writer() function\n",
    "        writer_object = writer(f_object)\n",
    "    # Result - a writer object\n",
    "    # Pass the data in the list as an argument into the writerow() function\n",
    "        if x == 100:\n",
    "            writer_object.writerow(header)\n",
    "            writer_object.writerow(data)\n",
    "        else:\n",
    "            writer_object.writerow(data)  \n",
    "    # Close the file object\n",
    "        f_object.close()"
   ]
  },
  {
   "cell_type": "code",
   "execution_count": 23,
   "metadata": {},
   "outputs": [
    {
     "name": "stdout",
     "output_type": "stream",
     "text": [
      "Table 4\n",
      "  x    Median of movies in a year    Ex. time (sec)\n",
      "---  ----------------------------  ----------------\n",
      "100                             1          5.93e-05\n",
      "  x    Median of movies in a year    Ex. time (sec)\n",
      "---  ----------------------------  ----------------\n",
      "200                             2         0.0001454\n",
      "  x    Median of movies in a year    Ex. time (sec)\n",
      "---  ----------------------------  ----------------\n",
      "400                             4         0.0002003\n",
      "  x    Median of movies in a year    Ex. time (sec)\n",
      "---  ----------------------------  ----------------\n",
      "600                             5         0.0002075\n",
      "  x    Median of movies in a year    Ex. time (sec)\n",
      "---  ----------------------------  ----------------\n",
      "800                             6         0.0001972\n",
      "   x    Median of movies in a year    Ex. time (sec)\n",
      "----  ----------------------------  ----------------\n",
      "1000                             6         0.0003504\n"
     ]
    }
   ],
   "source": [
    "#Answer Four\n",
    "for i in [100,200,400,600,800,1000]:\n",
    "    if i == 100 :\n",
    "        print(\"Table 4\")\n",
    "    Q4(i, year_list)"
   ]
  },
  {
   "cell_type": "code",
   "execution_count": 24,
   "metadata": {},
   "outputs": [],
   "source": [
    "flm = []\n",
    "for i in range(len(actors_list)):\n",
    "    lists = actors_list[i]\n",
    "    for i in range(len(lists)):\n",
    "        film = lists[0]\n",
    "    flm.append(film)\n",
    "unique_film=set(flm)"
   ]
  },
  {
   "cell_type": "code",
   "execution_count": 36,
   "metadata": {},
   "outputs": [
    {
     "name": "stdout",
     "output_type": "stream",
     "text": [
      "['O Brother, Where Art Thou? (2000)', 'Durning, Charles', '2000']\n"
     ]
    }
   ],
   "source": [
    "print(actors_list[0])"
   ]
  },
  {
   "cell_type": "code",
   "execution_count": 26,
   "metadata": {},
   "outputs": [],
   "source": [
    "def Q5(x,movies_list):\n",
    "    starttime = timeit.default_timer()\n",
    "    movielist = movies_list[0:x]\n",
    "    movies = dict.fromkeys(movies_list,0)\n",
    "    movies_actor = dict.fromkeys(unique_actor,0)\n",
    "    for title in actors_list:\n",
    "        if title[0] in movies.keys():\n",
    "            movies_actor[title[1]] = movies_actor[title[1]] + 1\n",
    "    lista_number_film = list(movies_actor.values())\n",
    "    lista_number_film.sort()\n",
    "    len_of_list = len(lista_number_film)\n",
    "    if len_of_list % 2 == 0:\n",
    "        median1 = lista_number_film[len_of_list//2]\n",
    "        median2 = lista_number_film[len_of_list//2 - 1]\n",
    "        median = (median1 + median2)/2\n",
    "    else:\n",
    "        median = lista_number_film[len_of_list//2]\n",
    "    time = timeit.default_timer() - starttime\n",
    "    header = [[\"x\", \"Median of movies for an actor\",  \"Ex. time (sec)\"]]\n",
    "    data = [[x, median, time]]\n",
    "    print (tabulate(data, headers = [\"x\", \"Median of movies for an actor\",  \"Ex. time (sec)\"]))\n",
    "    with open('Table5.csv', 'a', newline='') as f_object:  \n",
    "    # Pass the CSV  file object to the writer() function\n",
    "        writer_object = writer(f_object)\n",
    "    # Result - a writer object\n",
    "    # Pass the data in the list as an argument into the writerow() function\n",
    "        if x == 100:\n",
    "            writer_object.writerow(header)\n",
    "            writer_object.writerow(data)\n",
    "        else:\n",
    "            writer_object.writerow(data)  \n",
    "    # Close the file object\n",
    "        f_object.close()"
   ]
  },
  {
   "cell_type": "code",
   "execution_count": 27,
   "metadata": {},
   "outputs": [
    {
     "name": "stdout",
     "output_type": "stream",
     "text": [
      "Table 5\n",
      "  x    Median of movies for an actor    Ex. time (sec)\n",
      "---  -------------------------------  ----------------\n",
      "100                                1         0.0489307\n",
      "  x    Median of movies for an actor    Ex. time (sec)\n",
      "---  -------------------------------  ----------------\n",
      "200                                1         0.0380048\n",
      "  x    Median of movies for an actor    Ex. time (sec)\n",
      "---  -------------------------------  ----------------\n",
      "400                                1         0.0340144\n",
      "  x    Median of movies for an actor    Ex. time (sec)\n",
      "---  -------------------------------  ----------------\n",
      "600                                1         0.0286118\n",
      "  x    Median of movies for an actor    Ex. time (sec)\n",
      "---  -------------------------------  ----------------\n",
      "800                                1         0.0271538\n",
      "   x    Median of movies for an actor    Ex. time (sec)\n",
      "----  -------------------------------  ----------------\n",
      "1000                                1          0.026183\n"
     ]
    }
   ],
   "source": [
    "#Answer Five\n",
    "for i in [100,200,400,600,800,1000]:\n",
    "    if i == 100 :\n",
    "        print(\"Table 5\")\n",
    "    Q5(i,movies_list)"
   ]
  },
  {
   "cell_type": "code",
   "execution_count": 28,
   "metadata": {},
   "outputs": [],
   "source": [
    "#Question Six: Qual'è l'attore che ha collaborato con più attori?"
   ]
  },
  {
   "cell_type": "code",
   "execution_count": 29,
   "metadata": {},
   "outputs": [],
   "source": [
    "def Q6(x, movies_list):\n",
    "    starttime = timeit.default_timer()\n",
    "    movie_plist = movies_list[0:x]\n",
    "    movie2actors = dict.fromkeys(movie_plist,0)\n",
    "    \n",
    "    for i in movie2actors .keys():\n",
    "        movie2actors[i] = []\n",
    "    for title in actors_list:\n",
    "        if title[0] in movie2actors.keys():\n",
    "            movie2actors[title[0]].append(title[1]) \n",
    "            \n",
    "    actors2movie  = dict.fromkeys(unique_actor,0)\n",
    "    for actor in actors2movie.keys():\n",
    "        actors2movie[actor] = []\n",
    "    for film in movie2actors.keys():\n",
    "        for name_actor in movie2actors[film]:\n",
    "            actors2movie[name_actor].append(film)   \n",
    "            \n",
    "    collab = {}\n",
    "    collab_count = {}\n",
    "    for actor in actors2movie.keys():\n",
    "        collab[actor] = set()\n",
    "        for film in actors2movie[actor]:\n",
    "            if film in movie2actors.keys():\n",
    "                collab[actor] = collab[actor].union(set(movie2actors[film]))\n",
    "        if collab[actor]:\n",
    "            collab[actor].remove(actor)\n",
    "            collab_count[actor] = len(collab[actor])\n",
    "        else:\n",
    "            collab_count[actor] = 0\n",
    "            \n",
    "    time = timeit.default_timer() - starttime\n",
    "    count = max(collab_count.values())\n",
    "    actor = [k for k,v in collab_count.items() if v == count]\n",
    "    header = [[\"x\", \"Actor\", \"Number of collaborators\",  \"Ex. time (sec)\"]]\n",
    "    data = [[x, actor, count, time]]\n",
    "    print (tabulate(data, headers = [\"x\", \"Actor\", \"Number of collaborators\",  \"Ex. time (sec)\"]))\n",
    "    with open('Table6.csv', 'a', newline='') as f_object:  \n",
    "    # Pass the CSV  file object to the writer() function\n",
    "        writer_object = writer(f_object)\n",
    "    # Result - a writer object\n",
    "    # Pass the data in the list as an argument into the writerow() function\n",
    "        if x == 100:\n",
    "            writer_object.writerow(header)\n",
    "            writer_object.writerow(data)\n",
    "        else:\n",
    "            writer_object.writerow(data)  \n",
    "    # Close the file object\n",
    "        f_object.close()"
   ]
  },
  {
   "cell_type": "code",
   "execution_count": 30,
   "metadata": {},
   "outputs": [
    {
     "name": "stdout",
     "output_type": "stream",
     "text": [
      "Table 6\n",
      "  x  Actor                      Number of collaborators    Ex. time (sec)\n",
      "---  -----------------------  -------------------------  ----------------\n",
      "100  ['Freeman, Morgan (I)']                        644          0.247018\n",
      "  x  Actor                      Number of collaborators    Ex. time (sec)\n",
      "---  -----------------------  -------------------------  ----------------\n",
      "200  ['Freeman, Morgan (I)']                        861          0.421119\n",
      "  x  Actor               Number of collaborators    Ex. time (sec)\n",
      "---  ----------------  -------------------------  ----------------\n",
      "400  ['Oldman, Gary']                       1034          0.494659\n",
      "  x  Actor                  Number of collaborators    Ex. time (sec)\n",
      "---  -------------------  -------------------------  ----------------\n",
      "600  ['De Niro, Robert']                       1194          0.717583\n",
      "  x  Actor                  Number of collaborators    Ex. time (sec)\n",
      "---  -------------------  -------------------------  ----------------\n",
      "800  ['De Niro, Robert']                       1327          0.938195\n",
      "   x  Actor                  Number of collaborators    Ex. time (sec)\n",
      "----  -------------------  -------------------------  ----------------\n",
      "1000  ['De Niro, Robert']                       1639           1.11326\n"
     ]
    }
   ],
   "source": [
    "#Answer Six\n",
    "for i in [100,200,400,600,800,1000]:\n",
    "    if i == 100 :\n",
    "        print(\"Table 6\")\n",
    "    Q6(i,movies_list)"
   ]
  },
  {
   "cell_type": "code",
   "execution_count": 31,
   "metadata": {},
   "outputs": [],
   "source": [
    "#Question Seven: Qual'è la coppia di attori che ha fatto più film insieme?"
   ]
  },
  {
   "cell_type": "code",
   "execution_count": 32,
   "metadata": {},
   "outputs": [],
   "source": [
    "def Q7(x, movies_list):\n",
    "    starttime = timeit.default_timer()\n",
    "    movielist = movies_list[0:x]\n",
    "    \n",
    "    movie2actors = dict.fromkeys(movielist,0)\n",
    "    for film in movie2actors.keys():\n",
    "        movie2actors[film] = []\n",
    "    for title in actors_list:\n",
    "        if title[0] in movie2actors.keys():\n",
    "            movie2actors[title[0]].append(title[1])\n",
    "            \n",
    "    actors2movie  = dict.fromkeys(unique_actor,0)\n",
    "    for actor in actors2movie.keys():\n",
    "        actors2movie[actor] = []\n",
    "    for film in movie2actors.keys():\n",
    "        for name_actor in movie2actors[film]:\n",
    "            actors2movie[name_actor].append(film)\n",
    "            \n",
    "    collab= {}\n",
    "    for actor in actors2movie.keys():\n",
    "        collab[actor] = set()\n",
    "        for film in actors2movie[actor]:\n",
    "            if film in movie2actors.keys():\n",
    "                collab[actor] = collab[actor].union(set(movie2actors[film]))\n",
    "        if collab[actor]:\n",
    "            collab[actor].remove(actor)     \n",
    "    collab_count = {}\n",
    "    \n",
    "    for actor in collab.keys():\n",
    "        for actor_collaboration in collab[actor]:\n",
    "            collab_count[(actor,actor_collaboration)] = len(set(actors2movie[actor]).intersection(actors2movie[actor_collaboration]))\n",
    "            collab[actor_collaboration].remove(actor) \n",
    "            \n",
    "    time = timeit.default_timer() - starttime\n",
    "    count = max(collab_count.values())\n",
    "    actor = [k for k,v in collab_count.items() if v == count]\n",
    "    header = [[\"x\", \"Actors\", \"Number of collaborators\",  \"Ex. time (sec)\"]]\n",
    "    data = [[x, actor, count, time]]\n",
    "    print (tabulate(data, headers = [\"x\", \"Actors\", \"Number of collaborators\",  \"Ex. time (sec)\"])) \n",
    "    with open('Table7.csv', 'a', newline='') as f_object:  \n",
    "    # Pass the CSV  file object to the writer() function\n",
    "        writer_object = writer(f_object)\n",
    "    # Result - a writer object\n",
    "    # Pass the data in the list as an argument into the writerow() function\n",
    "        if x == 100:\n",
    "            writer_object.writerow(header)\n",
    "            writer_object.writerow(data)\n",
    "        else:\n",
    "            writer_object.writerow(data)  \n",
    "    # Close the file object\n",
    "        f_object.close()"
   ]
  },
  {
   "cell_type": "code",
   "execution_count": 33,
   "metadata": {},
   "outputs": [
    {
     "name": "stdout",
     "output_type": "stream",
     "text": [
      "Table 7\n",
      "  x  Actors                                            Number of collaborators    Ex. time (sec)\n",
      "---  ----------------------------------------------  -------------------------  ----------------\n",
      "100  [('Ford, Harrison (I)', 'Diamond, Peter (I)')]                          4          0.634942\n",
      "  x  Actors                                          Number of collaborators    Ex. time (sec)\n",
      "---  --------------------------------------------  -------------------------  ----------------\n",
      "200  [('Hitchcock, Alfred (I)', 'Flowers, Bess')]                          5          0.947456\n",
      "  x  Actors                                       Number of collaborators    Ex. time (sec)\n",
      "---  -----------------------------------------  -------------------------  ----------------\n",
      "400  [('Lynn, Sherry (I)', 'McGowan, Mickie')]                          9           2.24727\n",
      "  x  Actors                                       Number of collaborators    Ex. time (sec)\n",
      "---  -----------------------------------------  -------------------------  ----------------\n",
      "600  [('Lynn, Sherry (I)', 'McGowan, Mickie')]                         11           3.19054\n",
      "  x  Actors                                       Number of collaborators    Ex. time (sec)\n",
      "---  -----------------------------------------  -------------------------  ----------------\n",
      "800  [('Lynn, Sherry (I)', 'McGowan, Mickie')]                         12           4.25208\n",
      "   x  Actors                                       Number of collaborators    Ex. time (sec)\n",
      "----  -----------------------------------------  -------------------------  ----------------\n",
      "1000  [('Lynn, Sherry (I)', 'McGowan, Mickie')]                         15           5.23145\n"
     ]
    }
   ],
   "source": [
    "#Answer Seven\n",
    "for i in [100,200,400,600,800,1000]:\n",
    "    if i == 100 :\n",
    "        print(\"Table 7\")\n",
    "    Q7(i, movies_list)"
   ]
  },
  {
   "cell_type": "code",
   "execution_count": 34,
   "metadata": {},
   "outputs": [
    {
     "name": "stdout",
     "output_type": "stream",
     "text": [
      "23.136221\n"
     ]
    }
   ],
   "source": [
    "end_program = timeit.default_timer() - start_program\n",
    "print(end_program)"
   ]
  }
 ],
 "metadata": {
  "colab": {
   "collapsed_sections": [],
   "name": "Python_Project.ipynb",
   "provenance": []
  },
  "kernelspec": {
   "display_name": "Python 3 (ipykernel)",
   "language": "python",
   "name": "python3"
  },
  "language_info": {
   "codemirror_mode": {
    "name": "ipython",
    "version": 3
   },
   "file_extension": ".py",
   "mimetype": "text/x-python",
   "name": "python",
   "nbconvert_exporter": "python",
   "pygments_lexer": "ipython3",
   "version": "3.9.12"
  },
  "toc-autonumbering": false,
  "toc-showcode": true
 },
 "nbformat": 4,
 "nbformat_minor": 4
}
